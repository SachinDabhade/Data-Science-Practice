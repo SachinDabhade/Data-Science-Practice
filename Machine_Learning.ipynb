{
 "cells": [
  {
   "cell_type": "markdown",
   "id": "0620dd3b",
   "metadata": {},
   "source": [
    "# Predict the price of Bangalore Houses"
   ]
  },
  {
   "cell_type": "markdown",
   "id": "e4b8df77",
   "metadata": {},
   "source": [
    "# Linear Regression Algorithm - Day 1 "
   ]
  },
  {
   "cell_type": "code",
   "execution_count": 1,
   "id": "3336b82f",
   "metadata": {},
   "outputs": [],
   "source": [
    "# Importing Libraries\n",
    "import pandas as pd\n",
    "import matplotlib as plt\n",
    "import numpy as np\n",
    "import seaborn as sns\n",
    "from sklearn.linear_model import LinearRegression"
   ]
  },
  {
   "cell_type": "markdown",
   "id": "205cdd6b",
   "metadata": {},
   "source": [
    "Load DataSet"
   ]
  },
  {
   "cell_type": "code",
   "execution_count": 2,
   "id": "c218d79d",
   "metadata": {},
   "outputs": [],
   "source": [
    "train = pd.read_csv(r\"D:\\Coding\\GitHub\\Machine Learning\\Machine Learning Practice\\Machine Learning Data\\train.csv\")"
   ]
  },
  {
   "cell_type": "code",
   "execution_count": 3,
   "id": "753e9174",
   "metadata": {},
   "outputs": [],
   "source": [
    "test = pd.read_csv(r\"D:\\Coding\\GitHub\\Machine Learning\\Machine Learning Practice\\Machine Learning Data\\test.csv\")"
   ]
  },
  {
   "cell_type": "code",
   "execution_count": 4,
   "id": "8b098f8f",
   "metadata": {},
   "outputs": [
    {
     "data": {
      "text/html": [
       "<div>\n",
       "<style scoped>\n",
       "    .dataframe tbody tr th:only-of-type {\n",
       "        vertical-align: middle;\n",
       "    }\n",
       "\n",
       "    .dataframe tbody tr th {\n",
       "        vertical-align: top;\n",
       "    }\n",
       "\n",
       "    .dataframe thead th {\n",
       "        text-align: right;\n",
       "    }\n",
       "</style>\n",
       "<table border=\"1\" class=\"dataframe\">\n",
       "  <thead>\n",
       "    <tr style=\"text-align: right;\">\n",
       "      <th></th>\n",
       "      <th>x</th>\n",
       "      <th>y</th>\n",
       "    </tr>\n",
       "  </thead>\n",
       "  <tbody>\n",
       "    <tr>\n",
       "      <th>0</th>\n",
       "      <td>24.0</td>\n",
       "      <td>21.549452</td>\n",
       "    </tr>\n",
       "    <tr>\n",
       "      <th>1</th>\n",
       "      <td>50.0</td>\n",
       "      <td>47.464463</td>\n",
       "    </tr>\n",
       "    <tr>\n",
       "      <th>2</th>\n",
       "      <td>15.0</td>\n",
       "      <td>17.218656</td>\n",
       "    </tr>\n",
       "    <tr>\n",
       "      <th>3</th>\n",
       "      <td>38.0</td>\n",
       "      <td>36.586398</td>\n",
       "    </tr>\n",
       "    <tr>\n",
       "      <th>4</th>\n",
       "      <td>87.0</td>\n",
       "      <td>87.288984</td>\n",
       "    </tr>\n",
       "  </tbody>\n",
       "</table>\n",
       "</div>"
      ],
      "text/plain": [
       "      x          y\n",
       "0  24.0  21.549452\n",
       "1  50.0  47.464463\n",
       "2  15.0  17.218656\n",
       "3  38.0  36.586398\n",
       "4  87.0  87.288984"
      ]
     },
     "execution_count": 4,
     "metadata": {},
     "output_type": "execute_result"
    }
   ],
   "source": [
    "train.head()"
   ]
  },
  {
   "cell_type": "code",
   "execution_count": 5,
   "id": "3e18bc01",
   "metadata": {},
   "outputs": [
    {
     "data": {
      "text/html": [
       "<div>\n",
       "<style scoped>\n",
       "    .dataframe tbody tr th:only-of-type {\n",
       "        vertical-align: middle;\n",
       "    }\n",
       "\n",
       "    .dataframe tbody tr th {\n",
       "        vertical-align: top;\n",
       "    }\n",
       "\n",
       "    .dataframe thead th {\n",
       "        text-align: right;\n",
       "    }\n",
       "</style>\n",
       "<table border=\"1\" class=\"dataframe\">\n",
       "  <thead>\n",
       "    <tr style=\"text-align: right;\">\n",
       "      <th></th>\n",
       "      <th>x</th>\n",
       "      <th>y</th>\n",
       "    </tr>\n",
       "  </thead>\n",
       "  <tbody>\n",
       "    <tr>\n",
       "      <th>0</th>\n",
       "      <td>77</td>\n",
       "      <td>79.775152</td>\n",
       "    </tr>\n",
       "    <tr>\n",
       "      <th>1</th>\n",
       "      <td>21</td>\n",
       "      <td>23.177279</td>\n",
       "    </tr>\n",
       "    <tr>\n",
       "      <th>2</th>\n",
       "      <td>22</td>\n",
       "      <td>25.609262</td>\n",
       "    </tr>\n",
       "    <tr>\n",
       "      <th>3</th>\n",
       "      <td>20</td>\n",
       "      <td>17.857388</td>\n",
       "    </tr>\n",
       "    <tr>\n",
       "      <th>4</th>\n",
       "      <td>36</td>\n",
       "      <td>41.849864</td>\n",
       "    </tr>\n",
       "  </tbody>\n",
       "</table>\n",
       "</div>"
      ],
      "text/plain": [
       "    x          y\n",
       "0  77  79.775152\n",
       "1  21  23.177279\n",
       "2  22  25.609262\n",
       "3  20  17.857388\n",
       "4  36  41.849864"
      ]
     },
     "execution_count": 5,
     "metadata": {},
     "output_type": "execute_result"
    }
   ],
   "source": [
    "test.head()"
   ]
  },
  {
   "cell_type": "code",
   "execution_count": 21,
   "id": "22483b58",
   "metadata": {},
   "outputs": [
    {
     "name": "stdout",
     "output_type": "stream",
     "text": [
      "x    0\n",
      "y    0\n",
      "dtype: int64\n"
     ]
    },
    {
     "ename": "AttributeError",
     "evalue": "'DataFrame' object has no attribute 'type'",
     "output_type": "error",
     "traceback": [
      "\u001b[1;31m---------------------------------------------------------------------------\u001b[0m",
      "\u001b[1;31mAttributeError\u001b[0m                            Traceback (most recent call last)",
      "\u001b[1;32m<ipython-input-21-5359ce55accb>\u001b[0m in \u001b[0;36m<module>\u001b[1;34m\u001b[0m\n\u001b[0;32m      1\u001b[0m \u001b[0mtrain\u001b[0m\u001b[1;33m.\u001b[0m\u001b[0mshape\u001b[0m\u001b[1;33m\u001b[0m\u001b[1;33m\u001b[0m\u001b[0m\n\u001b[0;32m      2\u001b[0m \u001b[0mprint\u001b[0m\u001b[1;33m(\u001b[0m\u001b[0mtrain\u001b[0m\u001b[1;33m.\u001b[0m\u001b[0misnull\u001b[0m\u001b[1;33m(\u001b[0m\u001b[1;33m)\u001b[0m\u001b[1;33m.\u001b[0m\u001b[0msum\u001b[0m\u001b[1;33m(\u001b[0m\u001b[1;33m)\u001b[0m\u001b[1;33m)\u001b[0m\u001b[1;33m\u001b[0m\u001b[1;33m\u001b[0m\u001b[0m\n\u001b[1;32m----> 3\u001b[1;33m \u001b[0mtrain\u001b[0m\u001b[1;33m.\u001b[0m\u001b[0mtype\u001b[0m\u001b[1;33m(\u001b[0m\u001b[1;33m)\u001b[0m\u001b[1;33m\u001b[0m\u001b[1;33m\u001b[0m\u001b[0m\n\u001b[0m",
      "\u001b[1;32mC:\\Python\\python 3.9.4\\lib\\site-packages\\pandas\\core\\generic.py\u001b[0m in \u001b[0;36m__getattr__\u001b[1;34m(self, name)\u001b[0m\n\u001b[0;32m   5463\u001b[0m             \u001b[1;32mif\u001b[0m \u001b[0mself\u001b[0m\u001b[1;33m.\u001b[0m\u001b[0m_info_axis\u001b[0m\u001b[1;33m.\u001b[0m\u001b[0m_can_hold_identifiers_and_holds_name\u001b[0m\u001b[1;33m(\u001b[0m\u001b[0mname\u001b[0m\u001b[1;33m)\u001b[0m\u001b[1;33m:\u001b[0m\u001b[1;33m\u001b[0m\u001b[1;33m\u001b[0m\u001b[0m\n\u001b[0;32m   5464\u001b[0m                 \u001b[1;32mreturn\u001b[0m \u001b[0mself\u001b[0m\u001b[1;33m[\u001b[0m\u001b[0mname\u001b[0m\u001b[1;33m]\u001b[0m\u001b[1;33m\u001b[0m\u001b[1;33m\u001b[0m\u001b[0m\n\u001b[1;32m-> 5465\u001b[1;33m             \u001b[1;32mreturn\u001b[0m \u001b[0mobject\u001b[0m\u001b[1;33m.\u001b[0m\u001b[0m__getattribute__\u001b[0m\u001b[1;33m(\u001b[0m\u001b[0mself\u001b[0m\u001b[1;33m,\u001b[0m \u001b[0mname\u001b[0m\u001b[1;33m)\u001b[0m\u001b[1;33m\u001b[0m\u001b[1;33m\u001b[0m\u001b[0m\n\u001b[0m\u001b[0;32m   5466\u001b[0m \u001b[1;33m\u001b[0m\u001b[0m\n\u001b[0;32m   5467\u001b[0m     \u001b[1;32mdef\u001b[0m \u001b[0m__setattr__\u001b[0m\u001b[1;33m(\u001b[0m\u001b[0mself\u001b[0m\u001b[1;33m,\u001b[0m \u001b[0mname\u001b[0m\u001b[1;33m:\u001b[0m \u001b[0mstr\u001b[0m\u001b[1;33m,\u001b[0m \u001b[0mvalue\u001b[0m\u001b[1;33m)\u001b[0m \u001b[1;33m->\u001b[0m \u001b[1;32mNone\u001b[0m\u001b[1;33m:\u001b[0m\u001b[1;33m\u001b[0m\u001b[1;33m\u001b[0m\u001b[0m\n",
      "\u001b[1;31mAttributeError\u001b[0m: 'DataFrame' object has no attribute 'type'"
     ]
    }
   ],
   "source": [
    "train.shape\n",
    "print(train.isnull().sum())\n",
    "type(train)"
   ]
  },
  {
   "cell_type": "code",
   "execution_count": 22,
   "id": "4cf38920",
   "metadata": {},
   "outputs": [
    {
     "name": "stdout",
     "output_type": "stream",
     "text": [
      "x    0\n",
      "y    0\n",
      "dtype: int64\n"
     ]
    },
    {
     "data": {
      "text/plain": [
       "pandas.core.frame.DataFrame"
      ]
     },
     "execution_count": 22,
     "metadata": {},
     "output_type": "execute_result"
    }
   ],
   "source": [
    "test.shape\n",
    "print(test.isnull().sum())\n",
    "type(test)"
   ]
  },
  {
   "cell_type": "code",
   "execution_count": 8,
   "id": "45378f86",
   "metadata": {},
   "outputs": [
    {
     "name": "stdout",
     "output_type": "stream",
     "text": [
      "0      24.0\n",
      "1      50.0\n",
      "2      15.0\n",
      "3      38.0\n",
      "4      87.0\n",
      "       ... \n",
      "695    58.0\n",
      "696    93.0\n",
      "697    82.0\n",
      "698    66.0\n",
      "699    97.0\n",
      "Name: x, Length: 700, dtype: float64\n",
      "0      21.549452\n",
      "1      47.464463\n",
      "2      17.218656\n",
      "3      36.586398\n",
      "4      87.288984\n",
      "         ...    \n",
      "695    58.595006\n",
      "696    94.625094\n",
      "697    88.603770\n",
      "698    63.648685\n",
      "699    94.975266\n",
      "Name: y, Length: 700, dtype: float64\n"
     ]
    }
   ],
   "source": [
    "x_train = train['x']\n",
    "y_train = train['y']\n",
    "print(x_train)\n",
    "print(y_train)"
   ]
  },
  {
   "cell_type": "code",
   "execution_count": 9,
   "id": "1682b487",
   "metadata": {},
   "outputs": [
    {
     "name": "stdout",
     "output_type": "stream",
     "text": [
      "0      77\n",
      "1      21\n",
      "2      22\n",
      "3      20\n",
      "4      36\n",
      "       ..\n",
      "295    71\n",
      "296    46\n",
      "297    55\n",
      "298    62\n",
      "299    47\n",
      "Name: x, Length: 300, dtype: int64\n",
      "0      79.775152\n",
      "1      23.177279\n",
      "2      25.609262\n",
      "3      17.857388\n",
      "4      41.849864\n",
      "         ...    \n",
      "295    68.545888\n",
      "296    47.334876\n",
      "297    54.090637\n",
      "298    63.297171\n",
      "299    52.459467\n",
      "Name: y, Length: 300, dtype: float64\n"
     ]
    }
   ],
   "source": [
    "x_test = test['x']\n",
    "y_test = test['y']\n",
    "print(x_test)\n",
    "print(y_test)"
   ]
  },
  {
   "cell_type": "code",
   "execution_count": 10,
   "id": "05a026e5",
   "metadata": {},
   "outputs": [
    {
     "name": "stdout",
     "output_type": "stream",
     "text": [
      "49.939869170457804\n"
     ]
    },
    {
     "data": {
      "text/plain": [
       "0"
      ]
     },
     "execution_count": 10,
     "metadata": {},
     "output_type": "execute_result"
    }
   ],
   "source": [
    "y_train.fillna(value=y_train.mean(), inplace=True)\n",
    "print(y_train.mean())\n",
    "y_train.isnull().sum()"
   ]
  },
  {
   "cell_type": "code",
   "execution_count": 11,
   "id": "d4f7c3a0",
   "metadata": {},
   "outputs": [
    {
     "data": {
      "text/plain": [
       "LinearRegression()"
      ]
     },
     "execution_count": 11,
     "metadata": {},
     "output_type": "execute_result"
    }
   ],
   "source": [
    "lr = LinearRegression()\n",
    "# Reshaping Array\n",
    "x = x_train.to_numpy()\n",
    "lr.fit(x.reshape(-1, 1), y_train)"
   ]
  },
  {
   "cell_type": "code",
   "execution_count": 12,
   "id": "0d3a91c8",
   "metadata": {},
   "outputs": [
    {
     "data": {
      "text/plain": [
       "47.400466270549664"
      ]
     },
     "execution_count": 12,
     "metadata": {},
     "output_type": "execute_result"
    }
   ],
   "source": [
    "#  Intercept values\n",
    "lr.intercept_"
   ]
  },
  {
   "cell_type": "code",
   "execution_count": 13,
   "id": "84370b80",
   "metadata": {},
   "outputs": [
    {
     "data": {
      "text/plain": [
       "array([0.04618277])"
      ]
     },
     "execution_count": 13,
     "metadata": {},
     "output_type": "execute_result"
    }
   ],
   "source": [
    "lr.coef_"
   ]
  },
  {
   "cell_type": "code",
   "execution_count": 20,
   "id": "d7374fc1",
   "metadata": {},
   "outputs": [
    {
     "data": {
      "text/plain": [
       "array([50.95653945])"
      ]
     },
     "execution_count": 20,
     "metadata": {},
     "output_type": "execute_result"
    }
   ],
   "source": [
    "lr.predict(x_test[0].reshape(-1, 1))"
   ]
  },
  {
   "cell_type": "code",
   "execution_count": 24,
   "id": "03bbf0e9",
   "metadata": {},
   "outputs": [
    {
     "data": {
      "text/plain": [
       "array([50.95653945, 48.37030441, 48.41648718, 48.32412164, 49.06304594,\n",
       "       48.0932078 , 50.26379792, 51.78782928, 48.32412164, 47.63138011,\n",
       "       47.58519734, 48.27793887, 51.83401205, 50.26379792, 49.06304594,\n",
       "       48.0932078 , 50.40234623, 48.04702503, 51.41836714, 50.5870773 ,\n",
       "       51.51073267, 49.75578747, 51.51073267, 48.64740102, 51.88019482,\n",
       "       50.07906685, 51.04890499, 48.37030441, 51.69546375, 48.64740102,\n",
       "       51.97256036, 48.8321321 , 48.92449763, 51.09508776, 48.69358379,\n",
       "       49.57105639, 49.848153  , 50.5870773 , 48.69358379, 48.92449763,\n",
       "       51.60309821, 50.67944284, 49.7096047 , 50.91035668, 47.58519734,\n",
       "       49.10922871, 50.63326007, 50.54089453, 49.24777701, 49.01686317,\n",
       "       51.74164652, 51.4645499 , 49.80197024, 48.8321321 , 50.12524962,\n",
       "       47.40046627, 49.20159424, 50.35616346, 50.5870773 , 50.03288408,\n",
       "       48.00084226, 50.72562561, 50.91035668, 50.21761515, 51.18745329,\n",
       "       48.2317561 , 49.29395978, 49.7096047 , 49.94051854, 48.00084226,\n",
       "       49.52487362, 48.00084226, 51.04890499, 49.848153  , 48.0932078 ,\n",
       "       48.69358379, 51.14127052, 50.5870773 , 49.80197024, 51.27981883,\n",
       "       50.54089453, 48.64740102, 49.98670131, 49.61723916, 49.24777701,\n",
       "       49.20159424, 51.18745329, 52.01874313, 50.12524962, 49.38632532,\n",
       "       50.49471176, 49.15541148, 50.30998069, 51.60309821, 50.17143238,\n",
       "       48.04702503, 48.37030441, 51.41836714, 50.77180838, 48.87831486,\n",
       "       47.49283181, 51.18745329, 48.27793887, 50.81799114, 49.34014255,\n",
       "       47.95465949, 47.44664904, 51.55691544, 51.51073267, 47.40046627,\n",
       "       49.29395978, 48.13939057, 51.74164652, 51.88019482, 50.448529  ,\n",
       "       48.50885272, 48.18557334, 51.55691544, 48.00084226, 47.40046627,\n",
       "       50.35616346, 51.83401205, 51.92637759, 47.95465949, 49.29395978,\n",
       "       49.57105639, 51.00272222, 48.32412164, 51.51073267, 48.73976656,\n",
       "       50.35616346, 50.86417391, 47.95465949, 48.55503548, 48.69358379,\n",
       "       48.78594933, 50.40234623, 50.12524962, 50.35616346, 49.848153  ,\n",
       "       50.67944284, 51.88019482, 50.77180838, 47.81611119, 47.95465949,\n",
       "       50.30998069, 51.97256036, 50.17143238, 49.01686317, 47.49283181,\n",
       "       50.17143238, 48.87831486, 51.74164652, 51.27981883, 50.30998069,\n",
       "       48.41648718, 51.14127052, 51.69546375, 48.92449763, 47.72374565,\n",
       "       49.34014255, 49.52487362, 49.89433577, 48.13939057, 49.66342193,\n",
       "       49.38632532, 51.78782928, 50.448529  , 48.37030441, 49.01686317,\n",
       "       51.09508776, 49.10922871, 49.89433577, 49.98670131, 47.44664904,\n",
       "       48.87831486, 50.07906685, 48.87831486, 49.52487362, 50.72562561,\n",
       "       48.18557334, 51.88019482, 51.69546375, 51.60309821, 49.10922871,\n",
       "       47.58519734, 49.89433577, 49.75578747, 48.64740102, 49.52487362,\n",
       "       51.64928098, 50.77180838, 50.95653945, 51.60309821, 50.21761515,\n",
       "       51.97256036, 47.58519734, 50.72562561, 48.27793887, 50.03288408,\n",
       "       51.00272222, 48.60121825, 50.81799114, 51.55691544, 50.448529  ,\n",
       "       48.00084226, 49.24777701, 50.95653945, 50.49471176, 50.86417391,\n",
       "       48.46266995, 49.47869086, 50.12524962, 49.43250809, 48.46266995,\n",
       "       49.94051854, 49.94051854, 51.78782928, 47.95465949, 47.58519734,\n",
       "       47.72374565, 52.01874313, 49.61723916, 49.34014255, 51.83401205,\n",
       "       49.20159424, 52.01874313, 51.41836714, 48.04702503, 48.04702503,\n",
       "       49.10922871, 47.63138011, 51.4645499 , 51.60309821, 50.40234623,\n",
       "       50.81799114, 49.98670131, 48.13939057, 47.63138011, 48.69358379,\n",
       "       51.64928098, 49.52487362, 49.89433577, 49.20159424, 49.43250809,\n",
       "       48.8321321 , 50.54089453, 51.37218437, 51.55691544, 49.15541148,\n",
       "       48.37030441, 51.78782928, 49.98670131, 50.17143238, 50.40234623,\n",
       "       51.00272222, 51.51073267, 47.67756288, 50.49471176, 49.06304594,\n",
       "       48.13939057, 52.01874313, 49.47869086, 50.77180838, 50.03288408,\n",
       "       48.32412164, 50.91035668, 48.9706804 , 49.94051854, 50.72562561,\n",
       "       49.94051854, 47.76992842, 49.98670131, 50.72562561, 50.07906685,\n",
       "       47.67756288, 51.83401205, 48.46266995, 50.07906685, 48.46266995,\n",
       "       48.27793887, 48.55503548, 50.35616346, 48.37030441, 50.12524962,\n",
       "       48.27793887, 48.13939057, 49.34014255, 49.38632532, 50.21761515,\n",
       "       51.64928098, 47.90847672, 49.29395978, 47.44664904, 47.76992842,\n",
       "       50.67944284, 49.52487362, 49.94051854, 50.26379792, 49.57105639])"
      ]
     },
     "execution_count": 24,
     "metadata": {},
     "output_type": "execute_result"
    }
   ],
   "source": [
    "\n",
    "lr.predict(x_test.to_numpy().reshape(-1, 1))"
   ]
  },
  {
   "cell_type": "code",
   "execution_count": 27,
   "id": "e04878fd",
   "metadata": {},
   "outputs": [
    {
     "data": {
      "text/plain": [
       "0.08977653425803056"
      ]
     },
     "execution_count": 27,
     "metadata": {},
     "output_type": "execute_result"
    }
   ],
   "source": [
    "lr.score(y_test.to_numpy().reshape(-1, 1), x_test.to_numpy().reshape(-1, 1))"
   ]
  },
  {
   "cell_type": "code",
   "execution_count": null,
   "id": "c8b817a1",
   "metadata": {},
   "outputs": [],
   "source": []
  }
 ],
 "metadata": {
  "kernelspec": {
   "display_name": "Python 3.9.4 64-bit",
   "language": "python",
   "name": "python39464bit6f1e7ad1534a4a56b3d3194530af8618"
  },
  "language_info": {
   "codemirror_mode": {
    "name": "ipython",
    "version": 3
   },
   "file_extension": ".py",
   "mimetype": "text/x-python",
   "name": "python",
   "nbconvert_exporter": "python",
   "pygments_lexer": "ipython3",
   "version": "3.9.7"
  }
 },
 "nbformat": 4,
 "nbformat_minor": 5
}
